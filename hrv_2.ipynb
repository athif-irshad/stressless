{
 "cells": [
  {
   "cell_type": "code",
   "execution_count": 1,
   "id": "78db649b",
   "metadata": {
    "_cell_guid": "b1076dfc-b9ad-4769-8c92-a6c4dae69d19",
    "_uuid": "8f2839f25d086af736a60e9eeb907d3b93b6e0e5",
    "execution": {
     "iopub.execute_input": "2023-04-29T00:43:08.797885Z",
     "iopub.status.busy": "2023-04-29T00:43:08.797495Z",
     "iopub.status.idle": "2023-04-29T00:43:09.961997Z",
     "shell.execute_reply": "2023-04-29T00:43:09.960959Z"
    },
    "papermill": {
     "duration": 1.174537,
     "end_time": "2023-04-29T00:43:09.965172",
     "exception": false,
     "start_time": "2023-04-29T00:43:08.790635",
     "status": "completed"
    },
    "tags": []
   },
   "outputs": [],
   "source": [
    "import numpy as np\n",
    "import pandas as pd\n",
    "import matplotlib.pyplot as plt\n",
    "import sklearn.datasets\n",
    "from sklearn.model_selection import train_test_split\n",
    "from sklearn.metrics import accuracy_score"
   ]
  },
  {
   "cell_type": "code",
   "execution_count": 3,
   "id": "f5d8b7e3",
   "metadata": {},
   "outputs": [],
   "source": [
    "#load dataset\n",
    "hrvds = pd.read_csv('E:\\\\PRODUCTATHON\\\\train1 - Copy.csv')"
   ]
  },
  {
   "cell_type": "code",
   "execution_count": 4,
   "id": "03130de9",
   "metadata": {
    "execution": {
     "iopub.execute_input": "2023-04-29T00:43:12.825242Z",
     "iopub.status.busy": "2023-04-29T00:43:12.824329Z",
     "iopub.status.idle": "2023-04-29T00:43:12.833537Z",
     "shell.execute_reply": "2023-04-29T00:43:12.832401Z"
    },
    "papermill": {
     "duration": 0.016529,
     "end_time": "2023-04-29T00:43:12.835996",
     "exception": false,
     "start_time": "2023-04-29T00:43:12.819467",
     "status": "completed"
    },
    "tags": []
   },
   "outputs": [
    {
     "data": {
      "text/plain": [
       "(264139, 35)"
      ]
     },
     "execution_count": 4,
     "metadata": {},
     "output_type": "execute_result"
    }
   ],
   "source": [
    "hrvds.shape"
   ]
  },
  {
   "cell_type": "code",
   "execution_count": 5,
   "id": "d58ea26b",
   "metadata": {
    "execution": {
     "iopub.execute_input": "2023-04-29T00:43:12.845597Z",
     "iopub.status.busy": "2023-04-29T00:43:12.844884Z",
     "iopub.status.idle": "2023-04-29T00:43:12.887149Z",
     "shell.execute_reply": "2023-04-29T00:43:12.886109Z"
    },
    "papermill": {
     "duration": 0.049711,
     "end_time": "2023-04-29T00:43:12.889604",
     "exception": false,
     "start_time": "2023-04-29T00:43:12.839893",
     "status": "completed"
    },
    "tags": []
   },
   "outputs": [],
   "source": [
    "# seperating data and label\n",
    "data = hrvds.drop(columns = 'condition', axis = 1)\n",
    "label = hrvds['condition']"
   ]
  },
  {
   "cell_type": "code",
   "execution_count": 6,
   "id": "e530e368",
   "metadata": {
    "execution": {
     "iopub.execute_input": "2023-04-29T00:43:12.899019Z",
     "iopub.status.busy": "2023-04-29T00:43:12.898376Z",
     "iopub.status.idle": "2023-04-29T00:43:13.056067Z",
     "shell.execute_reply": "2023-04-29T00:43:13.054978Z"
    },
    "papermill": {
     "duration": 0.165333,
     "end_time": "2023-04-29T00:43:13.058901",
     "exception": false,
     "start_time": "2023-04-29T00:43:12.893568",
     "status": "completed"
    },
    "tags": []
   },
   "outputs": [],
   "source": [
    "#train test split\n",
    "data_train, data_test, label_train, label_test = train_test_split(data,label,test_size=0.2,stratify=label,random_state=2)"
   ]
  },
  {
   "cell_type": "code",
   "execution_count": 9,
   "id": "40cc824e",
   "metadata": {
    "execution": {
     "iopub.execute_input": "2023-04-29T00:43:13.068267Z",
     "iopub.status.busy": "2023-04-29T00:43:13.067882Z",
     "iopub.status.idle": "2023-04-29T00:43:13.198378Z",
     "shell.execute_reply": "2023-04-29T00:43:13.197383Z"
    },
    "papermill": {
     "duration": 0.138182,
     "end_time": "2023-04-29T00:43:13.201104",
     "exception": false,
     "start_time": "2023-04-29T00:43:13.062922",
     "status": "completed"
    },
    "tags": []
   },
   "outputs": [],
   "source": [
    "#standardization\n",
    "from sklearn.preprocessing import StandardScaler\n",
    "scaler = StandardScaler()\n",
    "\n",
    "data_train_std = scaler.fit_transform(data_train)\n",
    "\n",
    "data_test_std = scaler.transform(data_test)\n"
   ]
  },
  {
   "cell_type": "code",
   "execution_count": 11,
   "id": "6c118ab0",
   "metadata": {
    "execution": {
     "iopub.execute_input": "2023-04-29T00:43:13.211350Z",
     "iopub.status.busy": "2023-04-29T00:43:13.210387Z",
     "iopub.status.idle": "2023-04-29T00:43:21.483262Z",
     "shell.execute_reply": "2023-04-29T00:43:21.482086Z"
    },
    "papermill": {
     "duration": 8.281087,
     "end_time": "2023-04-29T00:43:21.486176",
     "exception": false,
     "start_time": "2023-04-29T00:43:13.205089",
     "status": "completed"
    },
    "tags": []
   },
   "outputs": [],
   "source": [
    "# importing tensorflow and Keras\n",
    "import tensorflow as tf \n",
    "tf.random.set_seed(3)\n",
    "from tensorflow import keras"
   ]
  },
  {
   "cell_type": "code",
   "execution_count": 12,
   "id": "bd465ce0",
   "metadata": {
    "execution": {
     "iopub.execute_input": "2023-04-29T00:43:21.497011Z",
     "iopub.status.busy": "2023-04-29T00:43:21.495418Z",
     "iopub.status.idle": "2023-04-29T00:43:21.686303Z",
     "shell.execute_reply": "2023-04-29T00:43:21.684806Z"
    },
    "papermill": {
     "duration": 0.199312,
     "end_time": "2023-04-29T00:43:21.689528",
     "exception": false,
     "start_time": "2023-04-29T00:43:21.490216",
     "status": "completed"
    },
    "tags": []
   },
   "outputs": [],
   "source": [
    "# setting up the layers of Neural Network\n",
    "model = keras.Sequential([\n",
    "                          keras.layers.Flatten(input_shape=(34,)),\n",
    "                          keras.layers.Dense(25, activation='relu'),\n",
    "                          keras.layers.Dense(2, activation='sigmoid')\n",
    "])"
   ]
  },
  {
   "cell_type": "code",
   "execution_count": 13,
   "id": "36205498",
   "metadata": {
    "execution": {
     "iopub.execute_input": "2023-04-29T00:43:21.699714Z",
     "iopub.status.busy": "2023-04-29T00:43:21.698877Z",
     "iopub.status.idle": "2023-04-29T00:43:21.718595Z",
     "shell.execute_reply": "2023-04-29T00:43:21.717099Z"
    },
    "papermill": {
     "duration": 0.027796,
     "end_time": "2023-04-29T00:43:21.721384",
     "exception": false,
     "start_time": "2023-04-29T00:43:21.693588",
     "status": "completed"
    },
    "tags": []
   },
   "outputs": [],
   "source": [
    "# compiling the Neural Network\n",
    "\n",
    "model.compile(optimizer='adam',\n",
    "              loss='sparse_categorical_crossentropy',\n",
    "              metrics=['accuracy'])"
   ]
  },
  {
   "cell_type": "code",
   "execution_count": 14,
   "id": "76063e10",
   "metadata": {
    "execution": {
     "iopub.execute_input": "2023-04-29T00:43:21.731269Z",
     "iopub.status.busy": "2023-04-29T00:43:21.730837Z",
     "iopub.status.idle": "2023-04-29T00:44:58.535729Z",
     "shell.execute_reply": "2023-04-29T00:44:58.534395Z"
    },
    "papermill": {
     "duration": 96.813394,
     "end_time": "2023-04-29T00:44:58.538932",
     "exception": false,
     "start_time": "2023-04-29T00:43:21.725538",
     "status": "completed"
    },
    "tags": []
   },
   "outputs": [
    {
     "name": "stdout",
     "output_type": "stream",
     "text": [
      "Epoch 1/10\n",
      "5944/5944 [==============================] - 11s 2ms/step - loss: 0.2247 - accuracy: 0.9064 - val_loss: 0.1241 - val_accuracy: 0.9592\n",
      "Epoch 2/10\n",
      "5944/5944 [==============================] - 8s 1ms/step - loss: 0.0950 - accuracy: 0.9699 - val_loss: 0.0674 - val_accuracy: 0.9807\n",
      "Epoch 3/10\n",
      "5944/5944 [==============================] - 8s 1ms/step - loss: 0.0582 - accuracy: 0.9835 - val_loss: 0.0476 - val_accuracy: 0.9859\n",
      "Epoch 4/10\n",
      "5944/5944 [==============================] - 9s 2ms/step - loss: 0.0382 - accuracy: 0.9906 - val_loss: 0.0304 - val_accuracy: 0.9930\n",
      "Epoch 5/10\n",
      "5944/5944 [==============================] - 8s 1ms/step - loss: 0.0263 - accuracy: 0.9941 - val_loss: 0.0217 - val_accuracy: 0.9963\n",
      "Epoch 6/10\n",
      "5944/5944 [==============================] - 9s 1ms/step - loss: 0.0188 - accuracy: 0.9963 - val_loss: 0.0173 - val_accuracy: 0.9965\n",
      "Epoch 7/10\n",
      "5944/5944 [==============================] - 9s 1ms/step - loss: 0.0145 - accuracy: 0.9972 - val_loss: 0.0138 - val_accuracy: 0.9973\n",
      "Epoch 8/10\n",
      "5944/5944 [==============================] - 9s 2ms/step - loss: 0.0116 - accuracy: 0.9979 - val_loss: 0.0098 - val_accuracy: 0.9984\n",
      "Epoch 9/10\n",
      "5944/5944 [==============================] - 8s 1ms/step - loss: 0.0094 - accuracy: 0.9985 - val_loss: 0.0087 - val_accuracy: 0.9986\n",
      "Epoch 10/10\n",
      "5944/5944 [==============================] - 9s 1ms/step - loss: 0.0076 - accuracy: 0.9988 - val_loss: 0.0064 - val_accuracy: 0.9993\n"
     ]
    }
   ],
   "source": [
    "# training the Neural Network\n",
    "history = model.fit(data_train_std, label_train, validation_split=0.1, epochs=10)"
   ]
  },
  {
   "cell_type": "code",
   "execution_count": 15,
   "id": "60036152",
   "metadata": {
    "execution": {
     "iopub.execute_input": "2023-04-29T00:44:58.777459Z",
     "iopub.status.busy": "2023-04-29T00:44:58.776176Z",
     "iopub.status.idle": "2023-04-29T00:45:11.789386Z",
     "shell.execute_reply": "2023-04-29T00:45:11.788302Z"
    },
    "papermill": {
     "duration": 13.140557,
     "end_time": "2023-04-29T00:45:11.791957",
     "exception": false,
     "start_time": "2023-04-29T00:44:58.651400",
     "status": "completed"
    },
    "tags": []
   },
   "outputs": [
    {
     "name": "stdout",
     "output_type": "stream",
     "text": [
      "1651/1651 [==============================] - 2s 1ms/step - loss: 0.0068 - accuracy: 0.9989\n",
      "Accuracy score of the test data :  0.9988831877708435\n",
      "6604/6604 [==============================] - 8s 1ms/step - loss: 0.0068 - accuracy: 0.9990\n",
      "Accuracy score of the train data :  0.9990156888961792\n"
     ]
    }
   ],
   "source": [
    "#accuracy on data\n",
    "loss, accuracy = model.evaluate(data_test_std, label_test)\n",
    "print('Accuracy score of the test data : ', accuracy)\n",
    "\n",
    "loss, accuracy = model.evaluate(data_train_std, label_train)\n",
    "print('Accuracy score of the train data : ', accuracy)"
   ]
  },
  {
   "cell_type": "code",
   "execution_count": 25,
   "id": "e70fdadd",
   "metadata": {
    "execution": {
     "iopub.execute_input": "2023-04-29T00:45:12.050095Z",
     "iopub.status.busy": "2023-04-29T00:45:12.049666Z",
     "iopub.status.idle": "2023-04-29T00:45:12.221726Z",
     "shell.execute_reply": "2023-04-29T00:45:12.220384Z"
    },
    "papermill": {
     "duration": 0.303326,
     "end_time": "2023-04-29T00:45:12.224098",
     "exception": false,
     "start_time": "2023-04-29T00:45:11.920772",
     "status": "completed"
    },
    "tags": []
   },
   "outputs": [
    {
     "name": "stdout",
     "output_type": "stream",
     "text": [
      "1/1 [==============================] - 0s 20ms/step\n",
      "[[0.99253124 0.00269279]]\n",
      "no stress\n"
     ]
    },
    {
     "name": "stderr",
     "output_type": "stream",
     "text": [
      "c:\\Users\\User\\AppData\\Local\\Programs\\Python\\Python310\\lib\\site-packages\\sklearn\\base.py:439: UserWarning: X does not have valid feature names, but StandardScaler was fitted with feature names\n",
      "  warnings.warn(\n"
     ]
    }
   ],
   "source": [
    "import csv\n",
    "# Open the CSV file\n",
    "with open('E:\\\\PRODUCTATHON\\\\TEST1.csv', newline='') as csvfile:\n",
    "    \n",
    "    # Create a CSV reader object\n",
    "    reader = csv.reader(csvfile, delimiter=',', quotechar='\"')\n",
    "    arr = []\n",
    "    # Loop over each row in the CSV file\n",
    "\n",
    "    for row in reader:\n",
    "        arr.append( row[0])\n",
    "\n",
    "#input_data = (768.5960196,786.18077,59.55781547,7.59287746,7.592163954,7.843905791,78.57847301,0.266666667,0,5.370262196,84.05609467,0.208785088,-0.960595519,0.000155237,-0.00098501,0.010097214,0.006146008,0.006145997,1.642889908,0.208785088,-0.960595519,299.0137274,53.52424654,241.8551493,43.29271016,93.1511744,17.78210258,3.183043303,6.848825604,558.6509793,13.60104342,0.073523771,1.961080905,1.229617876)\n",
    "# change the input_data to a numpy array\n",
    "input_data_as_numpy_array = np.asarray(arr)\n",
    "\n",
    "# reshape the numpy array as we are predicting for one data point\n",
    "input_data_reshaped = input_data_as_numpy_array.reshape(1,-1)\n",
    "\n",
    "# standardizing the input data\n",
    "input_data_std = scaler.transform(input_data_reshaped)\n",
    "\n",
    "prediction = model.predict(input_data_std)\n",
    "print(prediction)\n",
    "\n",
    "prediction_label = [np.argmax(prediction)]\n",
    "#print(prediction_label)\n",
    "\n",
    "if(prediction_label[0] == 0):\n",
    "  print('no stress')\n",
    "\n",
    "else:\n",
    "  print('stress')"
   ]
  }
 ],
 "metadata": {
  "kernelspec": {
   "display_name": "Python 3",
   "language": "python",
   "name": "python3"
  },
  "language_info": {
   "codemirror_mode": {
    "name": "ipython",
    "version": 3
   },
   "file_extension": ".py",
   "mimetype": "text/x-python",
   "name": "python",
   "nbconvert_exporter": "python",
   "pygments_lexer": "ipython3",
   "version": "3.10.1"
  },
  "papermill": {
   "default_parameters": {},
   "duration": 136.773891,
   "end_time": "2023-04-29T00:45:15.458770",
   "environment_variables": {},
   "exception": null,
   "input_path": "__notebook__.ipynb",
   "output_path": "__notebook__.ipynb",
   "parameters": {},
   "start_time": "2023-04-29T00:42:58.684879",
   "version": "2.4.0"
  }
 },
 "nbformat": 4,
 "nbformat_minor": 5
}
